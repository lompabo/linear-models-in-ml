{
 "cells": [
  {
   "cell_type": "markdown",
   "metadata": {
    "slideshow": {
     "slide_type": "slide"
    }
   },
   "source": [
    "# Introduction to Machine Learning"
   ]
  },
  {
   "cell_type": "markdown",
   "metadata": {
    "slideshow": {
     "slide_type": "subslide"
    }
   },
   "source": [
    "## Introduction to Machine Learning\n",
    "\n",
    "**What this lecture will cover**\n",
    "\n",
    "* An overview of what _Artificial Intelligence_ can do from a business perspective\n",
    "  - The focus will be on Machine Learning techniques\n",
    "* A vertical slice of two ML techniques\n",
    "  - The goal is to highlight the main _processes_, _tasks_, and _challenges_\n",
    " \n",
    "**How the content will be tackled**\n",
    "\n",
    "* The first will be purely theoretical (slides)\n",
    "* ...But the second will be technical!\n",
    "  - This can be hard if you have very little coding experience\n",
    "  - Just focus on the main concepts\n",
    "  - ...And if you can code, you'll be able to try some experiments"
   ]
  },
  {
   "cell_type": "markdown",
   "metadata": {
    "slideshow": {
     "slide_type": "subslide"
    }
   },
   "source": [
    "## What can AI do from an Industrial Perspective? \n",
    "\n",
    "**A good starting point: _business analytics_**\n",
    "\n",
    "<center><img src=\"assets/analytics-ithappens1.png\" width=\"800px\"/></center>"
   ]
  },
  {
   "cell_type": "markdown",
   "metadata": {
    "slideshow": {
     "slide_type": "subslide"
    }
   },
   "source": [
    "## Descriptive Analytics\n",
    "\n",
    "> **Key question: \"what is happening?\"**\n",
    "\n",
    "* They are all about _presenting the available data_\n",
    "* ...In a way that helps a human _obtaining insights_\n",
    "\n",
    "**A few examples:**\n",
    "\n",
    "* Visualization consoles\n",
    "* Most Business Intelligence solutions\n",
    "* Geographical Information Systems\n",
    "* ..."
   ]
  },
  {
   "cell_type": "markdown",
   "metadata": {
    "slideshow": {
     "slide_type": "subslide"
    }
   },
   "source": [
    "## Descriptive Analytics\n",
    "\n",
    "**A more in-depth example: business process visualization**\n",
    "\n",
    "<center><img src=\"assets/business_process.png\" width=\"700px\"/></center>"
   ]
  },
  {
   "cell_type": "markdown",
   "metadata": {
    "slideshow": {
     "slide_type": "subslide"
    }
   },
   "source": [
    "## Descriptive Analytics\n",
    "\n",
    "**A more in-depth example: case trends for the COVID-19 pandemic**\n",
    "\n",
    "<center><img src=\"assets/covid.png\" width=\"750px\"/></center>\n",
    "\n",
    "(credit: Sole 24 Ore)"
   ]
  },
  {
   "cell_type": "markdown",
   "metadata": {
    "slideshow": {
     "slide_type": "subslide"
    }
   },
   "source": [
    "## Diagnostic Analytics\n",
    "\n",
    "> **Key question: \"whay did it happen?\"**\n",
    "\n",
    "* They are all about _explaining data_ in terms of _simpler mechanisms_\n",
    "* ...Or about detecting patterns\n",
    "\n",
    "**A few examples:**\n",
    "\n",
    "* Anomaly detection/identification in industrial equipment\n",
    "* Detecting recurring patterns or item set in sales data\n",
    "* Support for medical diagnosis\n",
    "* ..."
   ]
  },
  {
   "cell_type": "markdown",
   "metadata": {
    "slideshow": {
     "slide_type": "subslide"
    }
   },
   "source": [
    "## Diagnostic Analytics\n",
    "\n",
    "**A more in-depth example: anomaly detection in an industrial plant**\n",
    "\n",
    "<center><img src=\"assets/anomaly_detection.png\" width=\"700px\"/></center>"
   ]
  },
  {
   "cell_type": "markdown",
   "metadata": {
    "slideshow": {
     "slide_type": "subslide"
    }
   },
   "source": [
    "## Predictive Analytics\n",
    "\n",
    "> **Key question: \"what will happen?\"**\n",
    "\n",
    "* They are all about _predicting trend_\n",
    "* ...Or _assessing impacts_\n",
    "\n",
    "**A few examples:**\n",
    "\n",
    "* Weather forecasts\n",
    "* Sales prediction\n",
    "* Remaining Useful Life estimation of industrial equipment\n",
    "* ..."
   ]
  },
  {
   "cell_type": "markdown",
   "metadata": {
    "slideshow": {
     "slide_type": "subslide"
    }
   },
   "source": [
    "## Predictive Analytics\n",
    "\n",
    "**A more in-depth example: short-range prediction of energy consumption**\n",
    "\n",
    "<center><img src=\"assets/energy_prediction.png\" width=\"900px\"/></center>"
   ]
  },
  {
   "cell_type": "markdown",
   "metadata": {
    "slideshow": {
     "slide_type": "subslide"
    }
   },
   "source": [
    "## Prescriptive Analytics\n",
    "\n",
    "> **Key question: \"what should you do?\"**\n",
    "\n",
    "* They are all about _providing suggestions_\n",
    "* ...Or about _directly controlling_ a system\n",
    "\n",
    "**A few examples:**\n",
    "\n",
    "* Production scheduling\n",
    "* Optimizing factory layouts\n",
    "* Optimizing supply chains\n",
    "* ..."
   ]
  },
  {
   "cell_type": "markdown",
   "metadata": {
    "slideshow": {
     "slide_type": "subslide"
    }
   },
   "source": [
    "## Prescriptive Analytics\n",
    "\n",
    "**A more in-depth example: controlling collaborative industrial robots**\n",
    "\n",
    "<center><img src=\"assets/collaborative_robots.jpg\" width=\"650px\"/></center>"
   ]
  },
  {
   "cell_type": "markdown",
   "metadata": {
    "slideshow": {
     "slide_type": "subslide"
    }
   },
   "source": [
    "## Business Analytics \n",
    "\n",
    "**In terms of how far we push automation:**\n",
    "\n",
    "<center><img src=\"assets/framework_092013.gif\" width=\"800px\"/></center>"
   ]
  },
  {
   "cell_type": "markdown",
   "metadata": {
    "slideshow": {
     "slide_type": "subslide"
    }
   },
   "source": [
    "## Business Analytics\n",
    "\n",
    "**From a the perspective of _main employed techniques_**\n",
    "\n",
    "* Descriptive Analitics\n",
    "  - Statistics, Dimensionality reductions, Advanced visualization\n",
    "* Diagnostic Analytics\n",
    "  - Machine Learning, Data Mining\n",
    "* Predictive Analytics\n",
    "  - Machine Learning, Simulation\n",
    "* Prescriptive Analytics\n",
    "  - Constrained Optimization, Machine Learning (some)\n",
    "  \n",
    "**Our focus will be on _Machine Learning_**"
   ]
  },
  {
   "cell_type": "markdown",
   "metadata": {
    "slideshow": {
     "slide_type": "subslide"
    }
   },
   "source": [
    "## Machine Learning\n",
    "\n",
    "**A few facts about Machine Learning**\n",
    "\n",
    "* It's a _field within AI_ (Artificial Intelligence)\n",
    "* Goal: taking advantage of _data_ to automate or improve a _task_\n",
    "* Typically works by constructing a _model_\n",
    "\n",
    "**Two broad classes of techniques**\n",
    "\n",
    "* Symbolic methods\n",
    "  - More interpretable models\n",
    "  - Often require some expert knowledge\n",
    "* Sub-symbolic methods\n",
    "  - Typically more robust\n",
    "  - No expert knowledge needed\n",
    "  - Less interpretable"
   ]
  },
  {
   "cell_type": "markdown",
   "metadata": {
    "slideshow": {
     "slide_type": "subslide"
    }
   },
   "source": [
    "## Machine Learning\n",
    "\n",
    "**Some examples of symbolic methods:**\n",
    "\n",
    "* Decision Trees (and ensembles)\n",
    "* Rule-based approaches\n",
    "* Bayesian networks\n",
    "* Inductive logic programming\n",
    "* Linear models?\n",
    "* ...\n",
    "\n",
    "**Some examples of sub-symbolic methods:**\n",
    "\n",
    "* Support vector machines\n",
    "* Neural Networks (and all variants)\n",
    "* Linear models?\n",
    "* ..."
   ]
  },
  {
   "cell_type": "markdown",
   "metadata": {
    "slideshow": {
     "slide_type": "subslide"
    }
   },
   "source": [
    "## Examples of ML Applications\n",
    "\n",
    "**Object recognition**\n",
    "\n",
    "<center><img src=\"assets/recognition.jpg\" width=\"800px\"/></center>"
   ]
  },
  {
   "cell_type": "markdown",
   "metadata": {
    "slideshow": {
     "slide_type": "subslide"
    }
   },
   "source": [
    "## Examples of ML Applications\n",
    "\n",
    "**Image segmentation**\n",
    "\n",
    "<center><img src=\"assets/segmentation.jpg\" width=\"800px\"/></center>"
   ]
  },
  {
   "cell_type": "markdown",
   "metadata": {
    "slideshow": {
     "slide_type": "subslide"
    }
   },
   "source": [
    "## Examples of ML Applications\n",
    "\n",
    "**Digit recognition**\n",
    "\n",
    "<center><img src=\"assets/digits.png\" width=\"500px\"/></center>"
   ]
  },
  {
   "cell_type": "markdown",
   "metadata": {
    "slideshow": {
     "slide_type": "subslide"
    }
   },
   "source": [
    "## Examples of ML Applications\n",
    "\n",
    "**Playing \"Go\"**\n",
    "\n",
    "<center><img src=\"assets/go.jpg\" width=\"800px\"/></center>"
   ]
  },
  {
   "cell_type": "markdown",
   "metadata": {
    "slideshow": {
     "slide_type": "subslide"
    }
   },
   "source": [
    "## Examples of ML Applications\n",
    "\n",
    "**Playing computer games**\n",
    "\n",
    "<center><img src=\"assets/dota2.jpg\" width=\"800px\"/></center>"
   ]
  },
  {
   "cell_type": "markdown",
   "metadata": {
    "slideshow": {
     "slide_type": "subslide"
    }
   },
   "source": [
    "## Examples of ML Applications\n",
    "\n",
    "**Playing quiz games**\n",
    "\n",
    "<center><img src=\"assets/jeopardy.jpg\" width=\"800px\"/></center>"
   ]
  },
  {
   "cell_type": "markdown",
   "metadata": {
    "slideshow": {
     "slide_type": "subslide"
    }
   },
   "source": [
    "## Examples of ML Applications\n",
    "\n",
    "**Answering complex questions**\n",
    "\n",
    "> **Q:** Who is Elon Musk\n",
    "\n",
    "\n",
    "> **A:** Who is Elon Musk?  Elon Musk made a name for himself at Tesla, where he transformed the auto industry. In 2009, the entrepreneur and founder of Tesla Motors was named the “World’s Most Hated Person.” Today, Musk is the richest man on Earth;"
   ]
  },
  {
   "cell_type": "markdown",
   "metadata": {
    "slideshow": {
     "slide_type": "subslide"
    }
   },
   "source": [
    "## Examples of ML Applications\n",
    "\n",
    "**More on the industrial side...**\n",
    "\n",
    "* Detecting faulty equipment\n",
    "* Estimating component Remaining Useful Life\n",
    "* Quality control\n",
    "* Estimating sales/gains/costs\n",
    "* Traffic forecasting\n",
    "* Detecting posture\n",
    "* Autonomous driving\n",
    "* Analyzing text\n",
    "* Generating text\n",
    "* ..."
   ]
  },
  {
   "cell_type": "markdown",
   "metadata": {
    "slideshow": {
     "slide_type": "subslide"
    }
   },
   "source": [
    "## The Remainder of the Lecture\n",
    "\n",
    "**The remainder of this lecture**\n",
    "\n",
    "...Will contain _vertical slices_ on a few simple Machine Learning methods\n",
    "\n",
    "* We will tackle simplified, but still realistic problems\n",
    "* We will encounter some of the typical challenges for data-driven methods\n",
    "* ...And we will see how they can be addressed\n",
    "* We will see _actual code_, using the [Python language](https://www.python.org/)\n",
    "* If you don't know how to code, just try to focus on the main ideas\n",
    "\n",
    "**The goal is not making you a data science expert**\n",
    "\n",
    "...But to understand _how these approaches work_ in practice\n",
    "\n",
    "* Perhaps you will not apply Machine Learning yourself\n",
    "* ...But you understand better which language an ML expert speaks "
   ]
  }
 ],
 "metadata": {
  "celltoolbar": "Slideshow",
  "kernelspec": {
   "display_name": "Python 3",
   "language": "python",
   "name": "python3"
  },
  "language_info": {
   "codemirror_mode": {
    "name": "ipython",
    "version": 3
   },
   "file_extension": ".py",
   "mimetype": "text/x-python",
   "name": "python",
   "nbconvert_exporter": "python",
   "pygments_lexer": "ipython3",
   "version": "3.8.10"
  },
  "rise": {
   "center": false,
   "transition": "fade"
  }
 },
 "nbformat": 4,
 "nbformat_minor": 4
}
