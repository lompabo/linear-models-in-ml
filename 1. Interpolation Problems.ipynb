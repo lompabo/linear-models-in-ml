{
 "cells": [
  {
   "cell_type": "code",
   "execution_count": 3,
   "metadata": {},
   "outputs": [
    {
     "name": "stdout",
     "output_type": "stream",
     "text": [
      "The autoreload extension is already loaded. To reload it, use:\n",
      "  %reload_ext autoreload\n"
     ]
    }
   ],
   "source": [
    "# Automatically reload all imported modules\n",
    "%load_ext autoreload\n",
    "%autoreload 2\n",
    "# Allow to pan and zoom graphs & charts\n",
    "%matplotlib widget"
   ]
  },
  {
   "cell_type": "markdown",
   "metadata": {
    "slideshow": {
     "slide_type": "slide"
    }
   },
   "source": [
    "# Exact Interpolation"
   ]
  },
  {
   "cell_type": "markdown",
   "metadata": {
    "slideshow": {
     "slide_type": "subslide"
    }
   },
   "source": [
    "## Understanding Asteroids\n",
    "\n",
    "In October 2017, we received an unexpected visit:\n",
    "\n",
    "<center><img src=\"assets/oumuamua.jpg\" style=\"height: 380px;\"></center>\n",
    "\n",
    "* The asteroid 'Oumuamua (\"scout\") came _from another star_\n",
    "* But how did we know it?\n"
   ]
  },
  {
   "cell_type": "markdown",
   "metadata": {
    "slideshow": {
     "slide_type": "subslide"
    }
   },
   "source": [
    "## It's about trajectories\n",
    "\n",
    "We could tell by _tracking its trajectory_:\n",
    "\n",
    "<center><img src=\"assets/trajectory.png\" style=\"height: 380px;\"></center>\n",
    "\n",
    "* Bodies in our solar system have _elliptical orbits_\n",
    "* Bodies from outside follow _hyperbolic trajectories_"
   ]
  },
  {
   "cell_type": "markdown",
   "metadata": {
    "slideshow": {
     "slide_type": "subslide"
    }
   },
   "source": [
    "## Taking Advantage of Observations\n",
    "\n",
    "**So we can:**\n",
    "\n",
    "* Observe the $(x_0, x_1)$ coordinates at some points...\n",
    "* ...And see which kind of curve describes it better\n",
    "\n",
    "**Say we have the following observations $(0, 0)$ is the sun position:**"
   ]
  },
  {
   "cell_type": "code",
   "execution_count": 4,
   "metadata": {},
   "outputs": [
    {
     "data": {
      "text/html": [
       "<div>\n",
       "<style scoped>\n",
       "    .dataframe tbody tr th:only-of-type {\n",
       "        vertical-align: middle;\n",
       "    }\n",
       "\n",
       "    .dataframe tbody tr th {\n",
       "        vertical-align: top;\n",
       "    }\n",
       "\n",
       "    .dataframe thead th {\n",
       "        text-align: right;\n",
       "    }\n",
       "</style>\n",
       "<table border=\"1\" class=\"dataframe\">\n",
       "  <thead>\n",
       "    <tr style=\"text-align: right;\">\n",
       "      <th></th>\n",
       "      <th>x0</th>\n",
       "      <th>x1</th>\n",
       "    </tr>\n",
       "  </thead>\n",
       "  <tbody>\n",
       "    <tr>\n",
       "      <th>0</th>\n",
       "      <td>0.50</td>\n",
       "      <td>0.1</td>\n",
       "    </tr>\n",
       "    <tr>\n",
       "      <th>1</th>\n",
       "      <td>-0.55</td>\n",
       "      <td>-0.5</td>\n",
       "    </tr>\n",
       "  </tbody>\n",
       "</table>\n",
       "</div>"
      ],
      "text/plain": [
       "     x0   x1\n",
       "0  0.50  0.1\n",
       "1 -0.55 -0.5"
      ]
     },
     "execution_count": 4,
     "metadata": {},
     "output_type": "execute_result"
    }
   ],
   "source": [
    "import pandas as pd\n",
    "\n",
    "data = pd.DataFrame(columns=['x0', 'x1'], data=[[0.5, 0.1], [-0.55, -0.5]])\n",
    "data"
   ]
  },
  {
   "cell_type": "markdown",
   "metadata": {},
   "source": [
    "* We have wrapped our data in a pandas `DataFrame` object (i.e. a table)\n",
    "* [pandas](https://pandas.pydata.org/) is a state-of-the-art library to manage datasets in Python"
   ]
  },
  {
   "cell_type": "markdown",
   "metadata": {
    "slideshow": {
     "slide_type": "subslide"
    }
   },
   "source": [
    "## Taking Advantage of Observations\n",
    "\n",
    "**We can plot our observed position on a Cartesian plane (+ the Sun)**"
   ]
  },
  {
   "cell_type": "code",
   "execution_count": 5,
   "metadata": {},
   "outputs": [
    {
     "data": {
      "application/vnd.jupyter.widget-view+json": {
       "model_id": "189461361de94d5191e48653d40ab1fd",
       "version_major": 2,
       "version_minor": 0
      },
      "text/plain": [
       "Canvas(toolbar=Toolbar(toolitems=[('Home', 'Reset original view', 'home', 'home'), ('Back', 'Back to previous …"
      ]
     },
     "metadata": {},
     "output_type": "display_data"
    }
   ],
   "source": [
    "from matplotlib import pyplot as plt\n",
    "\n",
    "plt.figure(figsize=(9, 3))\n",
    "plt.scatter(data['x0'], data['x1'], marker='x')\n",
    "plt.scatter(0, 0, color='0') # sun position\n",
    "plt.grid(linestyle=':')\n",
    "plt.axis('equal');"
   ]
  },
  {
   "cell_type": "markdown",
   "metadata": {
    "slideshow": {
     "slide_type": "subslide"
    }
   },
   "source": [
    "## Which Curve?\n",
    "\n",
    "**We need to choose between two types of curve**\n",
    "\n",
    "On a (properly chosen) Cartesian plane:\n",
    "\n",
    "* An ellipsis is described by an equation in the form:\n",
    "\n",
    "$$\n",
    "a x_0^2 + b x_1^2 = 1\n",
    "$$\n",
    "\n",
    "* ...But that's also the case for a hyperbola\n",
    "\n",
    "\n",
    "**The difference is all in the _coefficients_:**\n",
    "\n",
    "* For an ellipsis, both $a$ and $b$ have the same sign\n",
    "* For a hyperbola, they have opposite signs"
   ]
  },
  {
   "cell_type": "markdown",
   "metadata": {
    "slideshow": {
     "slide_type": "subslide"
    }
   },
   "source": [
    "## Determining the Coefficients\n",
    "\n",
    "**Every observation can be translated to a constraint**\n",
    "\n",
    "For an observation $(x_{i,0}, x_{i,1})$, we have that:\n",
    "$$\n",
    "a x_{i,0}^2 + b x_{i,1}^2 = 1\n",
    "$$\n",
    "\n",
    "* The values of $x_{i,0}$ and $x_{i,1}$ are _known_\n",
    "* The values of $a$ and $b$ need to be determined\n",
    "\n",
    "**For our observations we have that:**\n",
    "$$\n",
    "\\begin{align}\n",
    "a (0.5)^2 + b (0.1)^2 &= 1 \\\\\n",
    "a (-0.55)^2 + b (-0.5)^2 &= 1 \\\\\n",
    "\\vdots\n",
    "\\end{align}\n",
    "$$\n",
    "\n",
    "* This is a _system of linear equations_\n",
    "* The variables are $a$ and $b$, i.e. the coefficients in our curve"
   ]
  },
  {
   "cell_type": "markdown",
   "metadata": {
    "slideshow": {
     "slide_type": "subslide"
    }
   },
   "source": [
    "## Determining the Coefficients\n",
    "\n",
    "**We can state the system in matrix form**\n",
    "\n",
    "In general, a linear system can always be rewritten as:\n",
    "$$\n",
    "A x = b\n",
    "$$\n",
    "\n",
    "* $A$ is the coefficient matrix\n",
    "* $b$ a vector with the constant terms\n",
    "\n",
    "**For our asteroid case, we have:**\n",
    "\n",
    "$$\n",
    "\\left(\\begin{array}{ccccc}\n",
    "(0.5)^2 & (0.1)^2 \\\\\n",
    "(-0.55)^2 & (-0.5)^2 \\\\\n",
    "\\end{array}\\right)\n",
    "\\left(\\begin{array}{c}\n",
    "a \\\\ b\n",
    "\\end{array}\\right) =\n",
    "\\left(\\begin{array}{c}\n",
    "1 \\\\ 1\n",
    "\\end{array}\\right)\n",
    "$$\n",
    "\n",
    "* Every term in the first matrix column gets multiplied by $a$\n",
    "* Every term in the second matrix column gets multiplied by $b$"
   ]
  },
  {
   "cell_type": "markdown",
   "metadata": {
    "slideshow": {
     "slide_type": "subslide"
    }
   },
   "source": [
    "## Solving the System of Linear Equations\n",
    "\n",
    "**Once in matrix form, the system can be solved via standard algorithms**\n",
    "\n",
    "* E.g. Gaussian elimination, Singular Value Decomposition, etc.\n",
    "* We will use an implementation from the numpy module"
   ]
  },
  {
   "cell_type": "code",
   "execution_count": 6,
   "metadata": {},
   "outputs": [
    {
     "data": {
      "text/plain": [
       "array([[ 4.03530895],\n",
       "       [-0.88272383]])"
      ]
     },
     "execution_count": 6,
     "metadata": {},
     "output_type": "execute_result"
    }
   ],
   "source": [
    "import numpy as np\n",
    "\n",
    "A = data**2 # The table with\n",
    "b = np.ones((2, 1))\n",
    "\n",
    "w = np.linalg.solve(A, b)\n",
    "w"
   ]
  },
  {
   "cell_type": "markdown",
   "metadata": {},
   "source": [
    "* The algorithm returns the value of the $a$ and $b$ variables\n",
    "* From our observations, we can tell that _the curve is a hyperbola_"
   ]
  },
  {
   "cell_type": "markdown",
   "metadata": {
    "slideshow": {
     "slide_type": "slide"
    }
   },
   "source": [
    "# Getting General"
   ]
  },
  {
   "cell_type": "markdown",
   "metadata": {
    "slideshow": {
     "slide_type": "subslide"
    }
   },
   "source": [
    "## Getting General\n",
    "\n",
    "**It works for any function in the form:**\n",
    "\n",
    "$$\n",
    "f(x; w) = \\sum_{j = 1}^n w_j \\phi_j(x)\n",
    "$$\n",
    "\n",
    "* Each $\\phi_i(x)$ is called a basis function (it can be anything)\n",
    "* What we have is a _linear combination_ of basis functions\n",
    "\n",
    "**Given a set of $m$ observations in the form $(x_i, y_i)$ we can build:**\n",
    "\n",
    "$$\n",
    "A =\n",
    "\\left(\\begin{array}{cccc}\n",
    "\\phi_1(x_1) & \\phi_2(x_1) & \\cdots & \\phi_n(x_n) \\\\\n",
    "\\phi_1(x_2) & \\phi_2(x_2) & \\cdots & \\phi_n(x_n) \\\\\n",
    "\\vdots & \\vdots & \\vdots & \\vdots \\\\\n",
    "\\phi_1(x_m) & \\phi_2(x_m) & \\cdots & \\phi_n(x_m) \\\\\n",
    "\\end{array}\\right)\n",
    "\\quad\n",
    "b = \n",
    "\\left(\\begin{array}{c}\n",
    "y_1 \\\\\n",
    "y_2 \\\\\n",
    "\\vdots \\\\\n",
    "y_m \\\\\n",
    "\\end{array}\\right)\n",
    "$$\n",
    "\n",
    "* By solving $Aw = b$ we obtain the coefficients $w$"
   ]
  },
  {
   "cell_type": "markdown",
   "metadata": {
    "slideshow": {
     "slide_type": "subslide"
    }
   },
   "source": [
    "## Softball\n",
    "\n",
    "**Let's try to characterize a softball throw trajectory**\n",
    "\n",
    "<center><img src=\"assets/softball.jpg\" style=\"height: 380px;\"></center>\n",
    "\n",
    "* We will look at the distance $x$ from the thrower\n",
    "* ...And the ball height $y$ w.r.t. the ground"
   ]
  },
  {
   "cell_type": "markdown",
   "metadata": {
    "slideshow": {
     "slide_type": "subslide"
    }
   },
   "source": [
    "## Dataset\n",
    "\n",
    "**Say we have measured the ball position at three points in time**\n",
    "\n",
    "* We have $x_1 = 0$, $x_2 = 5$, and $x_3 = 10$\n",
    "* ...And $y_1 = 1.5$, $y_2 = 1.6$, $y_2 = 1.4$\n",
    "\n",
    "We can store the data in a pandas `DataFrame`"
   ]
  },
  {
   "cell_type": "code",
   "execution_count": 7,
   "metadata": {},
   "outputs": [
    {
     "data": {
      "text/html": [
       "<div>\n",
       "<style scoped>\n",
       "    .dataframe tbody tr th:only-of-type {\n",
       "        vertical-align: middle;\n",
       "    }\n",
       "\n",
       "    .dataframe tbody tr th {\n",
       "        vertical-align: top;\n",
       "    }\n",
       "\n",
       "    .dataframe thead th {\n",
       "        text-align: right;\n",
       "    }\n",
       "</style>\n",
       "<table border=\"1\" class=\"dataframe\">\n",
       "  <thead>\n",
       "    <tr style=\"text-align: right;\">\n",
       "      <th></th>\n",
       "      <th>x</th>\n",
       "      <th>y</th>\n",
       "    </tr>\n",
       "  </thead>\n",
       "  <tbody>\n",
       "    <tr>\n",
       "      <th>0</th>\n",
       "      <td>0</td>\n",
       "      <td>1.5</td>\n",
       "    </tr>\n",
       "    <tr>\n",
       "      <th>1</th>\n",
       "      <td>5</td>\n",
       "      <td>1.6</td>\n",
       "    </tr>\n",
       "    <tr>\n",
       "      <th>2</th>\n",
       "      <td>10</td>\n",
       "      <td>1.4</td>\n",
       "    </tr>\n",
       "  </tbody>\n",
       "</table>\n",
       "</div>"
      ],
      "text/plain": [
       "    x    y\n",
       "0   0  1.5\n",
       "1   5  1.6\n",
       "2  10  1.4"
      ]
     },
     "execution_count": 7,
     "metadata": {},
     "output_type": "execute_result"
    }
   ],
   "source": [
    "data = pd.DataFrame()\n",
    "data['x'] = [0, 5, 10]\n",
    "data['y'] = [1.5, 1.6, 1.4] \n",
    "data"
   ]
  },
  {
   "cell_type": "markdown",
   "metadata": {},
   "source": [
    "* For simplicity we will focus on reconstructing the geometric trajectory\n",
    "* ...And disregard time and speed information"
   ]
  },
  {
   "cell_type": "markdown",
   "metadata": {
    "slideshow": {
     "slide_type": "subslide"
    }
   },
   "source": [
    "## Choosing a Function\n",
    "\n",
    "**From basic physics, we know the trajectory is approximately parabolic**\n",
    "\n",
    "I.e. it will be described by an equation in the form:\n",
    "$$\n",
    "y = a x^2 + b x + c\n",
    "$$\n",
    "\n",
    "* The expression on the right hand is a linear combination of basis functions\n",
    "* The basis functions are $x^2$, $x$, and $1$ (for the offset $c$)\n",
    "\n",
    "**We can therefore formulate a system of linear equations in matrix form**\n",
    "\n",
    "$$\n",
    "\\left(\\begin{array}{ccc}\n",
    "x_1^2 & x_1 & 1 \\\\\n",
    "x_2^2 & x_2 & 1 \\\\\n",
    "x_3^2 & x_3 & 1 \\\\\n",
    "\\end{array}\\right)\n",
    "\\left(\\begin{array}{c}\n",
    "a \\\\\n",
    "b \\\\\n",
    "c \\\\\n",
    "\\end{array}\\right)\n",
    "=\n",
    "\\left(\\begin{array}{c}\n",
    "y_1 \\\\\n",
    "y_2 \\\\\n",
    "y_3 \\\\\n",
    "\\end{array}\\right)\n",
    "$$\n",
    "\n",
    "* By solving the system we can determine the coefficients $a, b, c$"
   ]
  },
  {
   "cell_type": "markdown",
   "metadata": {
    "slideshow": {
     "slide_type": "subslide"
    }
   },
   "source": [
    "## Determining the Coefficients\n",
    "\n",
    "**We can new determine the coefficients**\n",
    "\n",
    "1. We build the coefficient matrix:"
   ]
  },
  {
   "cell_type": "code",
   "execution_count": 8,
   "metadata": {},
   "outputs": [
    {
     "data": {
      "text/html": [
       "<div>\n",
       "<style scoped>\n",
       "    .dataframe tbody tr th:only-of-type {\n",
       "        vertical-align: middle;\n",
       "    }\n",
       "\n",
       "    .dataframe tbody tr th {\n",
       "        vertical-align: top;\n",
       "    }\n",
       "\n",
       "    .dataframe thead th {\n",
       "        text-align: right;\n",
       "    }\n",
       "</style>\n",
       "<table border=\"1\" class=\"dataframe\">\n",
       "  <thead>\n",
       "    <tr style=\"text-align: right;\">\n",
       "      <th></th>\n",
       "      <th>x^2</th>\n",
       "      <th>x</th>\n",
       "      <th>x^0</th>\n",
       "    </tr>\n",
       "  </thead>\n",
       "  <tbody>\n",
       "    <tr>\n",
       "      <th>0</th>\n",
       "      <td>0</td>\n",
       "      <td>0</td>\n",
       "      <td>1</td>\n",
       "    </tr>\n",
       "    <tr>\n",
       "      <th>1</th>\n",
       "      <td>25</td>\n",
       "      <td>5</td>\n",
       "      <td>1</td>\n",
       "    </tr>\n",
       "    <tr>\n",
       "      <th>2</th>\n",
       "      <td>100</td>\n",
       "      <td>10</td>\n",
       "      <td>1</td>\n",
       "    </tr>\n",
       "  </tbody>\n",
       "</table>\n",
       "</div>"
      ],
      "text/plain": [
       "   x^2   x  x^0\n",
       "0    0   0    1\n",
       "1   25   5    1\n",
       "2  100  10    1"
      ]
     },
     "execution_count": 8,
     "metadata": {},
     "output_type": "execute_result"
    }
   ],
   "source": [
    "A = pd.DataFrame()\n",
    "A['x^2'] = data['x']**2\n",
    "A['x'] = data['x']\n",
    "A['x^0'] = data['x']**0\n",
    "A"
   ]
  },
  {
   "cell_type": "markdown",
   "metadata": {},
   "source": [
    "2. We build the constant term vector:"
   ]
  },
  {
   "cell_type": "code",
   "execution_count": 9,
   "metadata": {},
   "outputs": [],
   "source": [
    "b = data[['y']]"
   ]
  },
  {
   "cell_type": "markdown",
   "metadata": {
    "slideshow": {
     "slide_type": "subslide"
    }
   },
   "source": [
    "## Determining the Coefficients\n",
    "\n",
    "3. We solve the system (and plot the curve):"
   ]
  },
  {
   "cell_type": "code",
   "execution_count": 10,
   "metadata": {},
   "outputs": [
    {
     "data": {
      "text/plain": [
       "array([[-0.006],\n",
       "       [ 0.05 ],\n",
       "       [ 1.5  ]])"
      ]
     },
     "execution_count": 10,
     "metadata": {},
     "output_type": "execute_result"
    }
   ],
   "source": [
    "w = np.linalg.solve(A, b)\n",
    "w"
   ]
  },
  {
   "cell_type": "code",
   "execution_count": 12,
   "metadata": {},
   "outputs": [
    {
     "data": {
      "application/vnd.jupyter.widget-view+json": {
       "model_id": "33ac8d5083954beca215b36751018113",
       "version_major": 2,
       "version_minor": 0
      },
      "text/plain": [
       "Canvas(toolbar=Toolbar(toolitems=[('Home', 'Reset original view', 'home', 'home'), ('Back', 'Back to previous …"
      ]
     },
     "metadata": {},
     "output_type": "display_data"
    }
   ],
   "source": [
    "x = np.linspace(0, 10)\n",
    "plt.figure(figsize=(9,3))\n",
    "plt.plot(x, w[0] * x**2 + w[1] * x + w[2])\n",
    "plt.scatter(data['x'], data['y'], marker='x', color='tab:red');"
   ]
  }
 ],
 "metadata": {
  "celltoolbar": "Slideshow",
  "kernelspec": {
   "display_name": "Python 3",
   "language": "python",
   "name": "python3"
  },
  "language_info": {
   "codemirror_mode": {
    "name": "ipython",
    "version": 3
   },
   "file_extension": ".py",
   "mimetype": "text/x-python",
   "name": "python",
   "nbconvert_exporter": "python",
   "pygments_lexer": "ipython3",
   "version": "3.8.10"
  },
  "rise": {
   "center": false,
   "transition": "fade"
  },
  "widgets": {
   "application/vnd.jupyter.widget-state+json": {
    "state": {},
    "version_major": 2,
    "version_minor": 0
   }
  }
 },
 "nbformat": 4,
 "nbformat_minor": 4
}
