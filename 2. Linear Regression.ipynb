{
 "cells": [
  {
   "cell_type": "code",
   "execution_count": 4,
   "metadata": {},
   "outputs": [
    {
     "name": "stdout",
     "output_type": "stream",
     "text": [
      "The autoreload extension is already loaded. To reload it, use:\n",
      "  %reload_ext autoreload\n"
     ]
    }
   ],
   "source": [
    "# ======================================================================================\n",
    "# Notebook setup\n",
    "# \n",
    "# Run this cell before all others to make sure that the Jupyter notebook works properly\n",
    "# ======================================================================================\n",
    "\n",
    "# Automatically reload all imported modules\n",
    "%load_ext autoreload\n",
    "%autoreload 2\n",
    "# Allow to pan and zoom graphs & charts\n",
    "%matplotlib widget"
   ]
  },
  {
   "cell_type": "markdown",
   "metadata": {
    "slideshow": {
     "slide_type": "slide"
    }
   },
   "source": [
    "# Linear Regression"
   ]
  },
  {
   "cell_type": "markdown",
   "metadata": {
    "slideshow": {
     "slide_type": "subslide"
    }
   },
   "source": [
    "## Our Target Problem\n",
    "\n",
    "**Let's assume we want to [estimate real-estate prices in Taiwan](https://archive.ics.uci.edu/ml/datasets/Real+estate+valuation+data+set)**\n",
    "\n",
    "<center><img src=\"assets/taiwan-tea-house.jpg\" style=\"height: 400px;\"></center>\n"
   ]
  },
  {
   "cell_type": "markdown",
   "metadata": {
    "slideshow": {
     "slide_type": "subslide"
    }
   },
   "source": [
    "## Loading the Data\n",
    "\n",
    "**Data for this problem is available (in csv format) from the `data` folder**"
   ]
  },
  {
   "cell_type": "code",
   "execution_count": 5,
   "metadata": {},
   "outputs": [
    {
     "name": "stdout",
     "output_type": "stream",
     "text": [
      "lr_test.txt  lr_train.txt  real_estate.csv  weather.csv\r\n"
     ]
    }
   ],
   "source": [
    "!ls data"
   ]
  },
  {
   "cell_type": "markdown",
   "metadata": {},
   "source": [
    "We will load the data via a Python library, called [pandas](https://pandas.pydata.org/)"
   ]
  },
  {
   "cell_type": "code",
   "execution_count": 6,
   "metadata": {},
   "outputs": [
    {
     "data": {
      "text/html": [
       "<div>\n",
       "<style scoped>\n",
       "    .dataframe tbody tr th:only-of-type {\n",
       "        vertical-align: middle;\n",
       "    }\n",
       "\n",
       "    .dataframe tbody tr th {\n",
       "        vertical-align: top;\n",
       "    }\n",
       "\n",
       "    .dataframe thead th {\n",
       "        text-align: right;\n",
       "    }\n",
       "</style>\n",
       "<table border=\"1\" class=\"dataframe\">\n",
       "  <thead>\n",
       "    <tr style=\"text-align: right;\">\n",
       "      <th></th>\n",
       "      <th>house age</th>\n",
       "      <th>dist to MRT</th>\n",
       "      <th>#stores</th>\n",
       "      <th>latitude</th>\n",
       "      <th>longitude</th>\n",
       "      <th>price per area</th>\n",
       "    </tr>\n",
       "  </thead>\n",
       "  <tbody>\n",
       "    <tr>\n",
       "      <th>0</th>\n",
       "      <td>32.0</td>\n",
       "      <td>84.87882</td>\n",
       "      <td>10</td>\n",
       "      <td>24.98298</td>\n",
       "      <td>121.54024</td>\n",
       "      <td>37.9</td>\n",
       "    </tr>\n",
       "    <tr>\n",
       "      <th>1</th>\n",
       "      <td>19.5</td>\n",
       "      <td>306.59470</td>\n",
       "      <td>9</td>\n",
       "      <td>24.98034</td>\n",
       "      <td>121.53951</td>\n",
       "      <td>42.2</td>\n",
       "    </tr>\n",
       "    <tr>\n",
       "      <th>2</th>\n",
       "      <td>13.3</td>\n",
       "      <td>561.98450</td>\n",
       "      <td>5</td>\n",
       "      <td>24.98746</td>\n",
       "      <td>121.54391</td>\n",
       "      <td>47.3</td>\n",
       "    </tr>\n",
       "    <tr>\n",
       "      <th>3</th>\n",
       "      <td>13.3</td>\n",
       "      <td>561.98450</td>\n",
       "      <td>5</td>\n",
       "      <td>24.98746</td>\n",
       "      <td>121.54391</td>\n",
       "      <td>54.8</td>\n",
       "    </tr>\n",
       "    <tr>\n",
       "      <th>4</th>\n",
       "      <td>5.0</td>\n",
       "      <td>390.56840</td>\n",
       "      <td>5</td>\n",
       "      <td>24.97937</td>\n",
       "      <td>121.54245</td>\n",
       "      <td>43.1</td>\n",
       "    </tr>\n",
       "  </tbody>\n",
       "</table>\n",
       "</div>"
      ],
      "text/plain": [
       "   house age  dist to MRT  #stores  latitude  longitude  price per area\n",
       "0       32.0     84.87882       10  24.98298  121.54024            37.9\n",
       "1       19.5    306.59470        9  24.98034  121.53951            42.2\n",
       "2       13.3    561.98450        5  24.98746  121.54391            47.3\n",
       "3       13.3    561.98450        5  24.98746  121.54391            54.8\n",
       "4        5.0    390.56840        5  24.97937  121.54245            43.1"
      ]
     },
     "execution_count": 6,
     "metadata": {},
     "output_type": "execute_result"
    }
   ],
   "source": [
    "data = pd.read_csv('data/real_estate.csv', sep=';')\n",
    "data.head() # Head returns the first 5 elements"
   ]
  },
  {
   "cell_type": "markdown",
   "metadata": {},
   "source": [
    "* The content of the csv files is a made accessible in a table-like object (`DataFrame`)"
   ]
  },
  {
   "cell_type": "markdown",
   "metadata": {
    "slideshow": {
     "slide_type": "subslide"
    }
   },
   "source": [
    "## A Look at the Data\n",
    "\n",
    "**Let's have a better look at the data**"
   ]
  },
  {
   "cell_type": "code",
   "execution_count": 7,
   "metadata": {},
   "outputs": [
    {
     "data": {
      "text/html": [
       "<div>\n",
       "<style scoped>\n",
       "    .dataframe tbody tr th:only-of-type {\n",
       "        vertical-align: middle;\n",
       "    }\n",
       "\n",
       "    .dataframe tbody tr th {\n",
       "        vertical-align: top;\n",
       "    }\n",
       "\n",
       "    .dataframe thead th {\n",
       "        text-align: right;\n",
       "    }\n",
       "</style>\n",
       "<table border=\"1\" class=\"dataframe\">\n",
       "  <thead>\n",
       "    <tr style=\"text-align: right;\">\n",
       "      <th></th>\n",
       "      <th>house age</th>\n",
       "      <th>dist to MRT</th>\n",
       "      <th>#stores</th>\n",
       "      <th>latitude</th>\n",
       "      <th>longitude</th>\n",
       "      <th>price per area</th>\n",
       "    </tr>\n",
       "  </thead>\n",
       "  <tbody>\n",
       "    <tr>\n",
       "      <th>0</th>\n",
       "      <td>32.0</td>\n",
       "      <td>84.87882</td>\n",
       "      <td>10</td>\n",
       "      <td>24.98298</td>\n",
       "      <td>121.54024</td>\n",
       "      <td>37.9</td>\n",
       "    </tr>\n",
       "    <tr>\n",
       "      <th>1</th>\n",
       "      <td>19.5</td>\n",
       "      <td>306.59470</td>\n",
       "      <td>9</td>\n",
       "      <td>24.98034</td>\n",
       "      <td>121.53951</td>\n",
       "      <td>42.2</td>\n",
       "    </tr>\n",
       "    <tr>\n",
       "      <th>2</th>\n",
       "      <td>13.3</td>\n",
       "      <td>561.98450</td>\n",
       "      <td>5</td>\n",
       "      <td>24.98746</td>\n",
       "      <td>121.54391</td>\n",
       "      <td>47.3</td>\n",
       "    </tr>\n",
       "    <tr>\n",
       "      <th>3</th>\n",
       "      <td>13.3</td>\n",
       "      <td>561.98450</td>\n",
       "      <td>5</td>\n",
       "      <td>24.98746</td>\n",
       "      <td>121.54391</td>\n",
       "      <td>54.8</td>\n",
       "    </tr>\n",
       "    <tr>\n",
       "      <th>4</th>\n",
       "      <td>5.0</td>\n",
       "      <td>390.56840</td>\n",
       "      <td>5</td>\n",
       "      <td>24.97937</td>\n",
       "      <td>121.54245</td>\n",
       "      <td>43.1</td>\n",
       "    </tr>\n",
       "  </tbody>\n",
       "</table>\n",
       "</div>"
      ],
      "text/plain": [
       "   house age  dist to MRT  #stores  latitude  longitude  price per area\n",
       "0       32.0     84.87882       10  24.98298  121.54024            37.9\n",
       "1       19.5    306.59470        9  24.98034  121.53951            42.2\n",
       "2       13.3    561.98450        5  24.98746  121.54391            47.3\n",
       "3       13.3    561.98450        5  24.98746  121.54391            54.8\n",
       "4        5.0    390.56840        5  24.97937  121.54245            43.1"
      ]
     },
     "execution_count": 7,
     "metadata": {},
     "output_type": "execute_result"
    }
   ],
   "source": [
    "data.head()"
   ]
  },
  {
   "cell_type": "markdown",
   "metadata": {},
   "source": [
    "* The first four columns contain quantities that easy to estimate\n",
    "* ...But that's not true for the last one!\n",
    "\n",
    "Obtaining prices required actual houses to be sold and bought\n",
    "\n",
    "* Our goal is to use the data to _learn a model_\n",
    "* ...That can estimate the price based on the easily available information"
   ]
  },
  {
   "cell_type": "markdown",
   "metadata": {
    "slideshow": {
     "slide_type": "subslide"
    }
   },
   "source": [
    "## Input, Output, Examples, Targets\n",
    "\n",
    "**Formally, we say that**\n",
    "\n",
    "* All columns except the price represent the _input $x$_ of our model\n",
    "* The price represetns the _output $y$_ of our model\n",
    "* Each row in the table represents one data point, i.e. an _example $(\\hat{x}_i, \\hat{y}_i)$_\n",
    "  - $\\hat{x}_i$ is the input value for the $i$-th example\n",
    "  - $\\hat{y}_i$ is the true output value (or _target_) for the $i$-th example\n",
    "\n",
    "**Our goal is to learn a model $f$ such that**\n",
    "\n",
    "* When we feed the input $\\hat{x}_i$ of each example to it\n",
    "* ...The output value $y_i = f(\\hat{x}_i)$ is as close as possible to $\\hat{y}_i$\n",
    "\n",
    "This kind of setup is known in ML as _supervised learning_\n",
    " "
   ]
  },
  {
   "cell_type": "markdown",
   "metadata": {
    "slideshow": {
     "slide_type": "subslide"
    }
   },
   "source": [
    "## Supervised Learning and Regression\n",
    "\n",
    "**Supervised Learning is among the most common forms of ML**\n",
    "\n",
    "Our _model_ is a function $f(x,; w)$ with input $x$ and _parameters $w$_\n",
    "\n",
    "* If the output is numeric, we speak of _regression_\n",
    "* ...And we can define the approximation error over the exampple using, e.g.:\n",
    "\n",
    "$$\n",
    "\\mathit{MSE}(w) = \\sum_{i=1}^m \\left(f(x_i,; w) - y_i\\right)^2\n",
    "$$\n",
    "\n",
    "* \"MSE\" stands for _Mean Squared Error_ and it's a common error metric\n",
    "\n",
    "**Training in a (MSE) regression problem consists in solving**\n",
    "\n",
    "$$\n",
    "\\text{argmin}_w \\, \\mathit{MSE}(w)\n",
    "$$\n",
    "\n",
    "\n",
    "* I.e. choosing the parameters $w$ to minimize approximation error"
   ]
  },
  {
   "cell_type": "markdown",
   "metadata": {
    "slideshow": {
     "slide_type": "subslide"
    }
   },
   "source": [
    "## Supervised Learning...And Linear Regression\n",
    "\n",
    "**We speak instead of _Linear Regression_**\n",
    "\n",
    "...When $f$ is defined as a _linear combination of basis functions_\n",
    "\n",
    "$$\n",
    "f(x; w) = \\sum_{i=1}^n w_j \\phi_j(x)\n",
    "$$\n",
    "\n",
    "In our case:\n",
    "\n",
    "* Each basis function will correspond to _a specific input column_\n",
    "* I.e. \"house age\", \"distance to MRT\", \"#stores\", \"latitude\", \"longitude\"\n",
    "\n",
    "This is a very common setup in Linear Regression\n",
    "\n",
    "**Linear regression is one of the simplest supervised learning approaches**\n",
    "\n",
    "* ...But it is still a very good example!\n",
    "* ...And will allow us to discuss some of the kay challenges in ML"
   ]
  },
  {
   "cell_type": "markdown",
   "metadata": {
    "slideshow": {
     "slide_type": "subslide"
    }
   },
   "source": [
    "## Separating Input and Ouput\n",
    "\n",
    "**First, we separate our input and output**"
   ]
  },
  {
   "cell_type": "code",
   "execution_count": 8,
   "metadata": {},
   "outputs": [
    {
     "data": {
      "text/html": [
       "<div>\n",
       "<style scoped>\n",
       "    .dataframe tbody tr th:only-of-type {\n",
       "        vertical-align: middle;\n",
       "    }\n",
       "\n",
       "    .dataframe tbody tr th {\n",
       "        vertical-align: top;\n",
       "    }\n",
       "\n",
       "    .dataframe thead th {\n",
       "        text-align: right;\n",
       "    }\n",
       "</style>\n",
       "<table border=\"1\" class=\"dataframe\">\n",
       "  <thead>\n",
       "    <tr style=\"text-align: right;\">\n",
       "      <th></th>\n",
       "      <th>house age</th>\n",
       "      <th>dist to MRT</th>\n",
       "      <th>#stores</th>\n",
       "      <th>latitude</th>\n",
       "      <th>longitude</th>\n",
       "    </tr>\n",
       "  </thead>\n",
       "  <tbody>\n",
       "    <tr>\n",
       "      <th>0</th>\n",
       "      <td>32.0</td>\n",
       "      <td>84.87882</td>\n",
       "      <td>10</td>\n",
       "      <td>24.98298</td>\n",
       "      <td>121.54024</td>\n",
       "    </tr>\n",
       "    <tr>\n",
       "      <th>1</th>\n",
       "      <td>19.5</td>\n",
       "      <td>306.59470</td>\n",
       "      <td>9</td>\n",
       "      <td>24.98034</td>\n",
       "      <td>121.53951</td>\n",
       "    </tr>\n",
       "    <tr>\n",
       "      <th>2</th>\n",
       "      <td>13.3</td>\n",
       "      <td>561.98450</td>\n",
       "      <td>5</td>\n",
       "      <td>24.98746</td>\n",
       "      <td>121.54391</td>\n",
       "    </tr>\n",
       "    <tr>\n",
       "      <th>3</th>\n",
       "      <td>13.3</td>\n",
       "      <td>561.98450</td>\n",
       "      <td>5</td>\n",
       "      <td>24.98746</td>\n",
       "      <td>121.54391</td>\n",
       "    </tr>\n",
       "    <tr>\n",
       "      <th>4</th>\n",
       "      <td>5.0</td>\n",
       "      <td>390.56840</td>\n",
       "      <td>5</td>\n",
       "      <td>24.97937</td>\n",
       "      <td>121.54245</td>\n",
       "    </tr>\n",
       "  </tbody>\n",
       "</table>\n",
       "</div>"
      ],
      "text/plain": [
       "   house age  dist to MRT  #stores  latitude  longitude\n",
       "0       32.0     84.87882       10  24.98298  121.54024\n",
       "1       19.5    306.59470        9  24.98034  121.53951\n",
       "2       13.3    561.98450        5  24.98746  121.54391\n",
       "3       13.3    561.98450        5  24.98746  121.54391\n",
       "4        5.0    390.56840        5  24.97937  121.54245"
      ]
     },
     "metadata": {},
     "output_type": "display_data"
    }
   ],
   "source": [
    "cols = data.columns\n",
    "X = data[cols[:-1]] # all columns except the last one\n",
    "display(X.head())"
   ]
  },
  {
   "cell_type": "markdown",
   "metadata": {},
   "source": [
    "**We will focus on predicting the logarithm of the price per area**"
   ]
  },
  {
   "cell_type": "code",
   "execution_count": 10,
   "metadata": {},
   "outputs": [],
   "source": [
    "y = np.log(data[cols[-1]]) # just the last column"
   ]
  },
  {
   "cell_type": "markdown",
   "metadata": {},
   "source": [
    "* In practice, it's like predicting the order of magnitude"
   ]
  },
  {
   "cell_type": "markdown",
   "metadata": {
    "slideshow": {
     "slide_type": "subslide"
    }
   },
   "source": [
    "## Training and Test Set\n",
    "\n",
    "**Next, we remove part of the dataset: we will use it for testing**\n",
    "\n",
    "* This is called the _test set_ (use only for testing)\n",
    "* The remaining data will form the _training set_ (use for calibration)"
   ]
  },
  {
   "cell_type": "code",
   "execution_count": 13,
   "metadata": {},
   "outputs": [
    {
     "name": "stdout",
     "output_type": "stream",
     "text": [
      "Size of the training set: 273\n",
      "Size of the test set: 141\n"
     ]
    }
   ],
   "source": [
    "from sklearn.model_selection import train_test_split\n",
    "\n",
    "X_tr, X_ts, y_tr, y_ts = train_test_split(X, y, test_size=0.34, random_state=0)\n",
    "\n",
    "print(f'Size of the training set: {len(X_tr)}')\n",
    "print(f'Size of the test set: {len(X_ts)}')"
   ]
  },
  {
   "cell_type": "markdown",
   "metadata": {},
   "source": [
    "The function `train_test_split`\n",
    "\n",
    "* Randomly shuffles the data (optionally with a fixed seed `random_state`)\n",
    "* Puts a fraction `test_size` of the data in the test set\n",
    "* ...And the remaining data in the training set\n",
    "* Both the input and the output data is processed in this fashion"
   ]
  },
  {
   "cell_type": "markdown",
   "metadata": {
    "slideshow": {
     "slide_type": "subslide"
    }
   },
   "source": [
    "## Training and Test Set\n",
    "\n",
    "**Using separate test set is _extremely important_**\n",
    "\n",
    "...Because we want our model to work on _new data_\n",
    "\n",
    "* We have no use for a model that _learns the input data perfectly_\n",
    "* ...But that _behaves poorly on unseen data_\n",
    "* In these cases, we say that the model _does not generalize_\n",
    "\n",
    "By keeping a separate test set we can simulate this evaluation\n",
    "\n",
    "**For the best performance...**\n",
    "\n",
    "...Training and test data should have similar probability distributions\n",
    "\n",
    "* Informally, they should be relatively similar\n",
    "* In this case, we say that the training set is _representative_"
   ]
  },
  {
   "cell_type": "markdown",
   "metadata": {
    "slideshow": {
     "slide_type": "subslide"
    }
   },
   "source": [
    "## Fitting the Model\n",
    "\n",
    "**We can now train a linear model using the [scikit-learn library](https://scikit-learn.org/stable/)**"
   ]
  },
  {
   "cell_type": "code",
   "execution_count": 14,
   "metadata": {},
   "outputs": [
    {
     "data": {
      "text/plain": [
       "LinearRegression()"
      ]
     },
     "execution_count": 14,
     "metadata": {},
     "output_type": "execute_result"
    }
   ],
   "source": [
    "from sklearn.linear_model import LinearRegression\n",
    "\n",
    "m = LinearRegression()\n",
    "m.fit(X_tr, y_tr)"
   ]
  },
  {
   "cell_type": "markdown",
   "metadata": {},
   "source": [
    "We obtain the estimated output via the `predict` method:"
   ]
  },
  {
   "cell_type": "code",
   "execution_count": 15,
   "metadata": {},
   "outputs": [],
   "source": [
    "y_pred_tr = m.predict(X_tr)\n",
    "y_pred_ts = m.predict(X_ts)"
   ]
  },
  {
   "cell_type": "markdown",
   "metadata": {},
   "source": [
    "* The predictions (unlike the targets) are not guaranteed to be integers\n",
    "* ...But that is still fine, since it's easy to interpret them"
   ]
  },
  {
   "cell_type": "markdown",
   "metadata": {
    "slideshow": {
     "slide_type": "subslide"
    }
   },
   "source": [
    "## Evaluation\n",
    "\n",
    "**Finally, we need to evaluate the prediction quality**\n",
    "\n",
    "A common approach is using metrics. Here are a few examples:\n",
    "\n",
    "* The _Mean Absolute Error_ is given by:\n",
    "$$\n",
    "\\mathit{MAE} = \\frac{1}{m}\\sum_{i=1}^m \\left|f(x_i) - y_i\\right|\n",
    "$$\n",
    "* The _Root Mean Squared Error_ is given by:\n",
    "$$\n",
    "\\mathit{RMSE} = \\sqrt{\\frac{1}{m} \\sum_{i=1}^m (f(x_i) - y_i)^2}\n",
    "$$\n",
    "\n",
    "Both the RMSE and MAE a simple error measures\n",
    "\n",
    "* They are expresses in the same unit as the original variable"
   ]
  },
  {
   "cell_type": "markdown",
   "metadata": {
    "slideshow": {
     "slide_type": "subslide"
    }
   },
   "source": [
    "## Evaluation\n",
    "\n",
    "\n",
    "* The coefficient of determination ($R^2$ coefficient) is given by:\n",
    "$$\n",
    "R^2 = 1 - \\frac{\\sum_{i=1}^m (f(x_i) - y_i)^2}{\\sum_{i=1}^m (y_i - \\tilde{y})^2}\n",
    "$$\n",
    "where $\\tilde{y}$ is the average of the $y$ values\n",
    "\n",
    "**The coefficient of determination is a useful, but more complex metric:**\n",
    "\n",
    "* Its maximum is 1: an $R^2 = 1$ implies perfect predictions\n",
    "* Having a known maximum make the metric very readable\n",
    "* It can be arbitrarily low (including negative)\n",
    "* It can be subject to a lot of noise if the targets $y$ have low variance\n",
    "\n",
    "**Using the MSE directly for evaluation is usually a bad idea**\n",
    "\n",
    "...Since it is a square, and therefore not easy to parse for a human"
   ]
  },
  {
   "cell_type": "markdown",
   "metadata": {
    "slideshow": {
     "slide_type": "subslide"
    }
   },
   "source": [
    "## Evaluation\n",
    "\n",
    "**Let's see the values for our example**"
   ]
  },
  {
   "cell_type": "code",
   "execution_count": 18,
   "metadata": {},
   "outputs": [
    {
     "name": "stdout",
     "output_type": "stream",
     "text": [
      "MAE on the training data: 0.154\n",
      "MAE on the test data: 0.154\n",
      "RMSE on the training data: 0.214\n",
      "RMSE on the test data: 0.24\n",
      "R2 on the training data: 0.704\n",
      "R2 on the test data: 0.618\n"
     ]
    }
   ],
   "source": [
    "from sklearn.metrics import r2_score, mean_absolute_error, mean_squared_error\n",
    "\n",
    "print(f'MAE on the training data: {mean_absolute_error(y_tr, y_pred_tr):.3}')\n",
    "print(f'MAE on the test data: {mean_absolute_error(y_ts, y_pred_ts):.3}')\n",
    "print(f'RMSE on the training data: {np.sqrt(mean_squared_error(y_tr, y_pred_tr)):.3}')\n",
    "print(f'RMSE on the test data: {np.sqrt(mean_squared_error(y_ts, y_pred_ts)):.3}')\n",
    "print(f'R2 on the training data: {r2_score(y_tr, y_pred_tr):.3}')\n",
    "print(f'R2 on the test data: {r2_score(y_ts, y_pred_ts):.3}')"
   ]
  },
  {
   "cell_type": "markdown",
   "metadata": {},
   "source": [
    "* In general, we have better predictions on the training set than on the test set\n",
    "* This is symptomatic of some _overfitting_\n",
    "* I.e. we are learning patterns that don't translate to unseen data\n",
    "\n",
    "Later on, we will see some techniques to deal with this situation"
   ]
  },
  {
   "cell_type": "markdown",
   "metadata": {
    "slideshow": {
     "slide_type": "subslide"
    }
   },
   "source": [
    "## Evaluation\n",
    "\n",
    "**As an (important!) alternative to metrics, we can use _scatter plots_:**\n",
    "\n",
    "* On the x-axis, we show the target values\n",
    "* On the y-axis, we show the predictions"
   ]
  },
  {
   "cell_type": "code",
   "execution_count": 19,
   "metadata": {},
   "outputs": [
    {
     "data": {
      "application/vnd.jupyter.widget-view+json": {
       "model_id": "bcd44adfdd2343ec8b3628e8fcbd30d8",
       "version_major": 2,
       "version_minor": 0
      },
      "text/plain": [
       "Canvas(toolbar=Toolbar(toolitems=[('Home', 'Reset original view', 'home', 'home'), ('Back', 'Back to previous …"
      ]
     },
     "metadata": {},
     "output_type": "display_data"
    }
   ],
   "source": [
    "from matplotlib import pyplot as plt\n",
    "plt.figure(figsize=(9,3))\n",
    "plt.scatter(y_ts, y_pred_ts, alpha=0.2)\n",
    "plt.plot(plt.xlim(), plt.ylim(), linestyle=':', color='0.5');"
   ]
  },
  {
   "cell_type": "markdown",
   "metadata": {},
   "source": [
    "This gives us a better idea of which kind of mistakes the model is making"
   ]
  }
 ],
 "metadata": {
  "celltoolbar": "Slideshow",
  "kernelspec": {
   "display_name": "Python 3",
   "language": "python",
   "name": "python3"
  },
  "language_info": {
   "codemirror_mode": {
    "name": "ipython",
    "version": 3
   },
   "file_extension": ".py",
   "mimetype": "text/x-python",
   "name": "python",
   "nbconvert_exporter": "python",
   "pygments_lexer": "ipython3",
   "version": "3.8.10"
  },
  "rise": {
   "center": false,
   "transition": "fade"
  },
  "widgets": {
   "application/vnd.jupyter.widget-state+json": {
    "state": {},
    "version_major": 2,
    "version_minor": 0
   }
  }
 },
 "nbformat": 4,
 "nbformat_minor": 4
}
